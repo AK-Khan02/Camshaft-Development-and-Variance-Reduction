{
  "nbformat": 4,
  "nbformat_minor": 0,
  "metadata": {
    "colab": {
      "provenance": []
    },
    "kernelspec": {
      "name": "ir",
      "display_name": "R"
    },
    "language_info": {
      "name": "R"
    }
  },
  "cells": [
    {
      "cell_type": "code",
      "source": [
        "# Loading the necessary library\n",
        "library(ggplot2)"
      ],
      "metadata": {
        "id": "PuQiGfvmrjRE"
      },
      "execution_count": null,
      "outputs": []
    },
    {
      "cell_type": "code",
      "execution_count": null,
      "metadata": {
        "id": "U8cdmrF5nnsB"
      },
      "outputs": [],
      "source": [
        "# Importing Datasets\n",
        "combined_data = read.csv('Data Combined.csv')"
      ]
    },
    {
      "cell_type": "code",
      "source": [
        "(combined_data)"
      ],
      "metadata": {
        "colab": {
          "base_uri": "https://localhost:8080/",
          "height": 366
        },
        "id": "5KmO-3EBq3HQ",
        "outputId": "87a2246b-b4b3-4801-b194-b37c9bf17d78"
      },
      "execution_count": null,
      "outputs": [
        {
          "output_type": "display_data",
          "data": {
            "text/html": [
              "<table class=\"dataframe\">\n",
              "<caption>A data.frame: 8 × 2</caption>\n",
              "<thead>\n",
              "\t<tr><th scope=col>part</th><th scope=col>y100</th></tr>\n",
              "\t<tr><th scope=col>&lt;int&gt;</th><th scope=col>&lt;dbl&gt;</th></tr>\n",
              "</thead>\n",
              "<tbody>\n",
              "\t<tr><td>27208</td><td> 10.2</td></tr>\n",
              "\t<tr><td>27897</td><td> -3.4</td></tr>\n",
              "\t<tr><td>27208</td><td>  8.2</td></tr>\n",
              "\t<tr><td>27897</td><td> -4.0</td></tr>\n",
              "\t<tr><td>27208</td><td> 10.2</td></tr>\n",
              "\t<tr><td>27897</td><td> -5.4</td></tr>\n",
              "\t<tr><td>27208</td><td>  9.6</td></tr>\n",
              "\t<tr><td>27897</td><td>-12.4</td></tr>\n",
              "</tbody>\n",
              "</table>\n"
            ],
            "text/markdown": "\nA data.frame: 8 × 2\n\n| part &lt;int&gt; | y100 &lt;dbl&gt; |\n|---|---|\n| 27208 |  10.2 |\n| 27897 |  -3.4 |\n| 27208 |   8.2 |\n| 27897 |  -4.0 |\n| 27208 |  10.2 |\n| 27897 |  -5.4 |\n| 27208 |   9.6 |\n| 27897 | -12.4 |\n\n",
            "text/latex": "A data.frame: 8 × 2\n\\begin{tabular}{ll}\n part & y100\\\\\n <int> & <dbl>\\\\\n\\hline\n\t 27208 &  10.2\\\\\n\t 27897 &  -3.4\\\\\n\t 27208 &   8.2\\\\\n\t 27897 &  -4.0\\\\\n\t 27208 &  10.2\\\\\n\t 27897 &  -5.4\\\\\n\t 27208 &   9.6\\\\\n\t 27897 & -12.4\\\\\n\\end{tabular}\n",
            "text/plain": [
              "  part  y100 \n",
              "1 27208  10.2\n",
              "2 27897  -3.4\n",
              "3 27208   8.2\n",
              "4 27897  -4.0\n",
              "5 27208  10.2\n",
              "6 27897  -5.4\n",
              "7 27208   9.6\n",
              "8 27897 -12.4"
            ]
          },
          "metadata": {}
        }
      ]
    },
    {
      "cell_type": "markdown",
      "source": [],
      "metadata": {
        "id": "jbPhjgUfvv2K"
      }
    },
    {
      "cell_type": "code",
      "source": [
        "# Fit the linear model\n",
        "model <- lm(y100 ~ part, data = combined_data)\n",
        "\n",
        "# Display the summary of the model\n",
        "summary(model)"
      ],
      "metadata": {
        "colab": {
          "base_uri": "https://localhost:8080/",
          "height": 329
        },
        "id": "egzqEmy70qFr",
        "outputId": "5d0b0b5e-e91e-480e-f275-2ff6dd9dc12f"
      },
      "execution_count": null,
      "outputs": [
        {
          "output_type": "display_data",
          "data": {
            "text/plain": [
              "\n",
              "Call:\n",
              "lm(formula = y100 ~ part, data = combined_data)\n",
              "\n",
              "Residuals:\n",
              "   Min     1Q Median     3Q    Max \n",
              " -6.10  -0.30   0.65   1.25   2.90 \n",
              "\n",
              "Coefficients:\n",
              "             Estimate Std. Error t value Pr(>|t|)    \n",
              "(Intercept) 635.45247   85.14216   7.463 0.000298 ***\n",
              "part         -0.02300    0.00309  -7.445 0.000303 ***\n",
              "---\n",
              "Signif. codes:  0 ‘***’ 0.001 ‘**’ 0.01 ‘*’ 0.05 ‘.’ 0.1 ‘ ’ 1\n",
              "\n",
              "Residual standard error: 3.011 on 6 degrees of freedom\n",
              "Multiple R-squared:  0.9023,\tAdjusted R-squared:  0.886 \n",
              "F-statistic: 55.43 on 1 and 6 DF,  p-value: 0.0003026\n"
            ]
          },
          "metadata": {}
        }
      ]
    },
    {
      "cell_type": "code",
      "source": [
        "residuals <- residuals(model)\n",
        "std_dev_residuals <- sd(residuals)\n",
        "\n",
        "# Print the standard deviation of the residuals\n",
        "print(std_dev_residuals)"
      ],
      "metadata": {
        "colab": {
          "base_uri": "https://localhost:8080/"
        },
        "id": "p66m7S1l8g6T",
        "outputId": "88ee9583-8037-4512-fb3e-1ff9954cddd7"
      },
      "execution_count": null,
      "outputs": [
        {
          "output_type": "stream",
          "name": "stdout",
          "text": [
            "[1] 2.787472\n"
          ]
        }
      ]
    },
    {
      "cell_type": "code",
      "source": [
        "# Convert 'part' to a factor\n",
        "combined_data$part <- as.factor(combined_data$part)\n",
        "\n",
        "# Create the linear model with an interaction term between 'part' and 'y100'\n",
        "model <- lm(y100 ~ part + part:y100, data = combined_data)\n",
        "\n",
        "# Check the summary of the model to see results\n",
        "summary(model)\n"
      ],
      "metadata": {
        "colab": {
          "base_uri": "https://localhost:8080/",
          "height": 433
        },
        "id": "MO33NlY18_J3",
        "outputId": "3d32cd70-5537-4dc7-c2b2-e6b03f794679"
      },
      "execution_count": null,
      "outputs": [
        {
          "output_type": "stream",
          "name": "stderr",
          "text": [
            "Warning message in summary.lm(model):\n",
            "“essentially perfect fit: summary may be unreliable”\n"
          ]
        },
        {
          "output_type": "display_data",
          "data": {
            "text/plain": [
              "\n",
              "Call:\n",
              "lm(formula = y100 ~ part + part:y100, data = combined_data)\n",
              "\n",
              "Residuals:\n",
              "         1          2          3          4          5          6          7 \n",
              " 9.204e-16  1.947e-15  1.138e-16 -9.109e-16 -6.549e-16 -1.410e-15 -3.793e-16 \n",
              "         8 \n",
              " 3.740e-16 \n",
              "\n",
              "Coefficients:\n",
              "                 Estimate Std. Error    t value Pr(>|t|)    \n",
              "(Intercept)    -1.884e-15  8.388e-15 -2.250e-01    0.833    \n",
              "part27897       3.768e-15  8.511e-15  4.430e-01    0.681    \n",
              "y100:part27208  1.000e+00  8.751e-16  1.143e+15   <2e-16 ***\n",
              "y100:part27897  1.000e+00  1.988e-16  5.029e+15   <2e-16 ***\n",
              "---\n",
              "Signif. codes:  0 ‘***’ 0.001 ‘**’ 0.01 ‘*’ 0.05 ‘.’ 0.1 ‘ ’ 1\n",
              "\n",
              "Residual standard error: 1.43e-15 on 4 degrees of freedom\n",
              "Multiple R-squared:      1,\tAdjusted R-squared:      1 \n",
              "F-statistic: 9.077e+31 on 3 and 4 DF,  p-value: < 2.2e-16\n"
            ]
          },
          "metadata": {}
        }
      ]
    },
    {
      "cell_type": "code",
      "source": [
        "combined_data"
      ],
      "metadata": {
        "colab": {
          "base_uri": "https://localhost:8080/",
          "height": 366
        },
        "id": "W-bwWbCn98ow",
        "outputId": "7656759a-b0dc-4c8e-81ca-603a3fad41ae"
      },
      "execution_count": null,
      "outputs": [
        {
          "output_type": "display_data",
          "data": {
            "text/html": [
              "<table class=\"dataframe\">\n",
              "<caption>A data.frame: 8 × 2</caption>\n",
              "<thead>\n",
              "\t<tr><th scope=col>part</th><th scope=col>y100</th></tr>\n",
              "\t<tr><th scope=col>&lt;fct&gt;</th><th scope=col>&lt;dbl&gt;</th></tr>\n",
              "</thead>\n",
              "<tbody>\n",
              "\t<tr><td>27208</td><td> 10.2</td></tr>\n",
              "\t<tr><td>27897</td><td> -3.4</td></tr>\n",
              "\t<tr><td>27208</td><td>  8.2</td></tr>\n",
              "\t<tr><td>27897</td><td> -4.0</td></tr>\n",
              "\t<tr><td>27208</td><td> 10.2</td></tr>\n",
              "\t<tr><td>27897</td><td> -5.4</td></tr>\n",
              "\t<tr><td>27208</td><td>  9.6</td></tr>\n",
              "\t<tr><td>27897</td><td>-12.4</td></tr>\n",
              "</tbody>\n",
              "</table>\n"
            ],
            "text/markdown": "\nA data.frame: 8 × 2\n\n| part &lt;fct&gt; | y100 &lt;dbl&gt; |\n|---|---|\n| 27208 |  10.2 |\n| 27897 |  -3.4 |\n| 27208 |   8.2 |\n| 27897 |  -4.0 |\n| 27208 |  10.2 |\n| 27897 |  -5.4 |\n| 27208 |   9.6 |\n| 27897 | -12.4 |\n\n",
            "text/latex": "A data.frame: 8 × 2\n\\begin{tabular}{ll}\n part & y100\\\\\n <fct> & <dbl>\\\\\n\\hline\n\t 27208 &  10.2\\\\\n\t 27897 &  -3.4\\\\\n\t 27208 &   8.2\\\\\n\t 27897 &  -4.0\\\\\n\t 27208 &  10.2\\\\\n\t 27897 &  -5.4\\\\\n\t 27208 &   9.6\\\\\n\t 27897 & -12.4\\\\\n\\end{tabular}\n",
            "text/plain": [
              "  part  y100 \n",
              "1 27208  10.2\n",
              "2 27897  -3.4\n",
              "3 27208   8.2\n",
              "4 27897  -4.0\n",
              "5 27208  10.2\n",
              "6 27897  -5.4\n",
              "7 27208   9.6\n",
              "8 27897 -12.4"
            ]
          },
          "metadata": {}
        }
      ]
    },
    {
      "cell_type": "code",
      "source": [
        "# Convert 'part' to a factor\n",
        "combined_data$part <- as.factor(combined_data$part)\n",
        "\n",
        "# Fit the linear model\n",
        "model <- lm(y100 ~ part, data = combined_data)\n",
        "\n",
        "# Summary of the model\n",
        "summary(model)\n"
      ],
      "metadata": {
        "colab": {
          "base_uri": "https://localhost:8080/",
          "height": 329
        },
        "id": "oGSfnM3xAULG",
        "outputId": "164ffbd6-5c4b-431f-8bea-ab52fab00286"
      },
      "execution_count": null,
      "outputs": [
        {
          "output_type": "display_data",
          "data": {
            "text/plain": [
              "\n",
              "Call:\n",
              "lm(formula = y100 ~ part, data = combined_data)\n",
              "\n",
              "Residuals:\n",
              "   Min     1Q Median     3Q    Max \n",
              " -6.10  -0.30   0.65   1.25   2.90 \n",
              "\n",
              "Coefficients:\n",
              "            Estimate Std. Error t value Pr(>|t|)    \n",
              "(Intercept)    9.550      1.505   6.344 0.000719 ***\n",
              "part27897    -15.850      2.129  -7.445 0.000303 ***\n",
              "---\n",
              "Signif. codes:  0 ‘***’ 0.001 ‘**’ 0.01 ‘*’ 0.05 ‘.’ 0.1 ‘ ’ 1\n",
              "\n",
              "Residual standard error: 3.011 on 6 degrees of freedom\n",
              "Multiple R-squared:  0.9023,\tAdjusted R-squared:  0.886 \n",
              "F-statistic: 55.43 on 1 and 6 DF,  p-value: 0.0003026\n"
            ]
          },
          "metadata": {}
        }
      ]
    },
    {
      "cell_type": "code",
      "source": [
        "# Perform ANOVA\n",
        "anova(model)\n"
      ],
      "metadata": {
        "colab": {
          "base_uri": "https://localhost:8080/",
          "height": 106
        },
        "id": "R5QwxN_hBQ_3",
        "outputId": "38ab533b-c555-474e-9c5a-7929ed5de7d7"
      },
      "execution_count": null,
      "outputs": [
        {
          "output_type": "error",
          "ename": "ERROR",
          "evalue": "Error in eval(expr, envir, enclos): object 'model' not found\n",
          "traceback": [
            "Error in eval(expr, envir, enclos): object 'model' not found\nTraceback:\n",
            "1. anova(model)"
          ]
        }
      ]
    },
    {
      "cell_type": "code",
      "source": [
        "# Diagnostic plots (optional but recommended)\n",
        "par(mfrow = c(2, 2))\n",
        "plot(model)"
      ],
      "metadata": {
        "colab": {
          "base_uri": "https://localhost:8080/",
          "height": 437
        },
        "id": "LJdZFYAAB_C4",
        "outputId": "1aa2545d-5340-4c60-e0b7-a90c359acfda"
      },
      "execution_count": null,
      "outputs": [
        {
          "output_type": "display_data",
          "data": {
            "text/plain": [
              "Plot with title “”"
            ],
            "image/png": "[encoded data removed]"
          },
          "metadata": {
            "image/png": {
              "width": 420,
              "height": 420
            }
          }
        }
      ]
    },
    {
      "cell_type": "code",
      "source": [
        "sds <- aggregate(y100 ~ part, data = combined_data, FUN = sd)\n",
        "\n",
        "print(sds)\n"
      ],
      "metadata": {
        "colab": {
          "base_uri": "https://localhost:8080/"
        },
        "id": "9oBpMSCGB_XS",
        "outputId": "2895b3fb-7ee1-4cb2-8a89-f2e89e5bef07"
      },
      "execution_count": null,
      "outputs": [
        {
          "output_type": "stream",
          "name": "stdout",
          "text": [
            "   part      y100\n",
            "1 27208 0.9433981\n",
            "2 27897 4.1521079\n"
          ]
        }
      ]
    },
    {
      "cell_type": "code",
      "source": [
        "# Calculating SD of partnum 27897, with the removal of that outlier\n",
        "\n",
        "# Assuming 'data' is your dataframe\n",
        "\n",
        "# Filter out the specific outlier value for part 27897\n",
        "data_filtered <- combined_data[!(combined_data$part == \"27897\" & combined_data$y100 == -12.4), ]\n",
        "\n",
        "# Calculate the new standard deviation for part 27897 without the outlier\n",
        "new_sd_27897 <- sd(data_filtered$y100[data_filtered$part == \"27897\"])\n",
        "\n",
        "# Display the new standard deviation\n",
        "new_sd_27897\n"
      ],
      "metadata": {
        "colab": {
          "base_uri": "https://localhost:8080/",
          "height": 34
        },
        "id": "5KXSfv19CxtL",
        "outputId": "a57b1240-4274-4971-80b6-4e94f1e58e53"
      },
      "execution_count": null,
      "outputs": [
        {
          "output_type": "display_data",
          "data": {
            "text/html": [
              "1.02632028788938"
            ],
            "text/markdown": "1.02632028788938",
            "text/latex": "1.02632028788938",
            "text/plain": [
              "[1] 1.02632"
            ]
          },
          "metadata": {}
        }
      ]
    },
    {
      "cell_type": "code",
      "source": [
        "# Calculating Overall Standard Deviation\n",
        "overall_sd_y100 = sd(combined_data$y100)\n",
        "overall_sd_y100\n",
        "\n",
        "filtered_sd_y100 = sd(data_filtered$y100)\n",
        "filtered_sd_y100"
      ],
      "metadata": {
        "colab": {
          "base_uri": "https://localhost:8080/",
          "height": 52
        },
        "id": "DykN42ziDkSV",
        "outputId": "bc37e516-b736-4863-f57c-2dd8b163826c"
      },
      "execution_count": null,
      "outputs": [
        {
          "output_type": "display_data",
          "data": {
            "text/html": [
              "8.91896054161342"
            ],
            "text/markdown": "8.91896054161342",
            "text/latex": "8.91896054161342",
            "text/plain": [
              "[1] 8.918961"
            ]
          },
          "metadata": {}
        },
        {
          "output_type": "display_data",
          "data": {
            "text/html": [
              "7.43902195312311"
            ],
            "text/markdown": "7.43902195312311",
            "text/latex": "7.43902195312311",
            "text/plain": [
              "[1] 7.439022"
            ]
          },
          "metadata": {}
        }
      ]
    },
    {
      "cell_type": "code",
      "source": [],
      "metadata": {
        "id": "SGugX0wHGC8K"
      },
      "execution_count": null,
      "outputs": []
    }
  ]
}
